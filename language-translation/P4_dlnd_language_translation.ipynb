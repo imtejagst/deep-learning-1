{
 "cells": [
  {
   "cell_type": "markdown",
   "metadata": {
    "collapsed": true
   },
   "source": [
    "# Language Translation\n",
    "In this project, you’re going to take a peek into the realm of neural network machine translation.  You’ll be training a sequence to sequence model on a dataset of English and French sentences that can translate new sentences from English to French.\n",
    "## Get the Data\n",
    "Since translating the whole language of English to French will take lots of time to train, we have provided you with a small portion of the English corpus."
   ]
  },
  {
   "cell_type": "code",
   "execution_count": 1,
   "metadata": {
    "collapsed": true
   },
   "outputs": [],
   "source": [
    "\"\"\"\n",
    "DON'T MODIFY ANYTHING IN THIS CELL\n",
    "\"\"\"\n",
    "import helper\n",
    "import problem_unittests as tests\n",
    "\n",
    "source_path = 'data/small_vocab_en'\n",
    "target_path = 'data/small_vocab_fr'\n",
    "source_text = helper.load_data(source_path)\n",
    "target_text = helper.load_data(target_path)"
   ]
  },
  {
   "cell_type": "markdown",
   "metadata": {},
   "source": [
    "## Explore the Data\n",
    "Play around with view_sentence_range to view different parts of the data."
   ]
  },
  {
   "cell_type": "code",
   "execution_count": 2,
   "metadata": {},
   "outputs": [
    {
     "name": "stdout",
     "output_type": "stream",
     "text": [
      "Dataset Stats\n",
      "Roughly the number of unique words: 227\n",
      "Number of sentences: 137861\n",
      "Average number of words in a sentence: 13.225277634719028\n",
      "\n",
      "English sentences 0 to 10:\n",
      "new jersey is sometimes quiet during autumn , and it is snowy in april .\n",
      "the united states is usually chilly during july , and it is usually freezing in november .\n",
      "california is usually quiet during march , and it is usually hot in june .\n",
      "the united states is sometimes mild during june , and it is cold in september .\n",
      "your least liked fruit is the grape , but my least liked is the apple .\n",
      "his favorite fruit is the orange , but my favorite is the grape .\n",
      "paris is relaxing during december , but it is usually chilly in july .\n",
      "new jersey is busy during spring , and it is never hot in march .\n",
      "our least liked fruit is the lemon , but my least liked is the grape .\n",
      "the united states is sometimes busy during january , and it is sometimes warm in november .\n",
      "\n",
      "French sentences 0 to 10:\n",
      "new jersey est parfois calme pendant l' automne , et il est neigeux en avril .\n",
      "les états-unis est généralement froid en juillet , et il gèle habituellement en novembre .\n",
      "california est généralement calme en mars , et il est généralement chaud en juin .\n",
      "les états-unis est parfois légère en juin , et il fait froid en septembre .\n",
      "votre moins aimé fruit est le raisin , mais mon moins aimé est la pomme .\n",
      "son fruit préféré est l'orange , mais mon préféré est le raisin .\n",
      "paris est relaxant en décembre , mais il est généralement froid en juillet .\n",
      "new jersey est occupé au printemps , et il est jamais chaude en mars .\n",
      "notre fruit est moins aimé le citron , mais mon moins aimé est le raisin .\n",
      "les états-unis est parfois occupé en janvier , et il est parfois chaud en novembre .\n"
     ]
    }
   ],
   "source": [
    "view_sentence_range = (0, 10)\n",
    "\n",
    "\"\"\"\n",
    "DON'T MODIFY ANYTHING IN THIS CELL\n",
    "\"\"\"\n",
    "import numpy as np\n",
    "\n",
    "print('Dataset Stats')\n",
    "print('Roughly the number of unique words: {}'.format(len({word: None for word in source_text.split()})))\n",
    "\n",
    "sentences = source_text.split('\\n')\n",
    "word_counts = [len(sentence.split()) for sentence in sentences]\n",
    "print('Number of sentences: {}'.format(len(sentences)))\n",
    "print('Average number of words in a sentence: {}'.format(np.average(word_counts)))\n",
    "\n",
    "print()\n",
    "print('English sentences {} to {}:'.format(*view_sentence_range))\n",
    "print('\\n'.join(source_text.split('\\n')[view_sentence_range[0]:view_sentence_range[1]]))\n",
    "print()\n",
    "print('French sentences {} to {}:'.format(*view_sentence_range))\n",
    "print('\\n'.join(target_text.split('\\n')[view_sentence_range[0]:view_sentence_range[1]]))"
   ]
  },
  {
   "cell_type": "markdown",
   "metadata": {},
   "source": [
    "## Implement Preprocessing Function\n",
    "### Text to Word Ids\n",
    "As you did with other RNNs, you must turn the text into a number so the computer can understand it. In the function `text_to_ids()`, you'll turn `source_text` and `target_text` from words to ids.  However, you need to add the `<EOS>` word id at the end of `target_text`.  This will help the neural network predict when the sentence should end.\n",
    "\n",
    "You can get the `<EOS>` word id by doing:\n",
    "```python\n",
    "target_vocab_to_int['<EOS>']\n",
    "```\n",
    "You can get other word ids using `source_vocab_to_int` and `target_vocab_to_int`."
   ]
  },
  {
   "cell_type": "code",
   "execution_count": 3,
   "metadata": {},
   "outputs": [
    {
     "name": "stdout",
     "output_type": "stream",
     "text": [
      "Tests Passed\n"
     ]
    }
   ],
   "source": [
    "def text_to_ids(source_text, target_text, source_vocab_to_int, target_vocab_to_int):\n",
    "    \"\"\"\n",
    "    Convert source and target text to proper word ids\n",
    "    :param source_text: String that contains all the source text.\n",
    "    :param target_text: String that contains all the target text.\n",
    "    :param source_vocab_to_int: Dictionary to go from the source words to an id\n",
    "    :param target_vocab_to_int: Dictionary to go from the target words to an id\n",
    "    :return: A tuple of lists (source_id_text, target_id_text)\n",
    "    \"\"\"\n",
    "    # TODO: Implement Function\n",
    "    def _text_to_ids(text, vocab_to_int, add_eos):\n",
    "        \"\"\"\n",
    "        Convert text to ids\n",
    "        :param text: String that contains all the text.\n",
    "        :param vocab_to_int: Dictionary to go from the words to an id\n",
    "        :add_eos: Boolean to decide if add '<EOS>' or not\n",
    "        :return: A 2D list of ids\n",
    "        \"\"\"\n",
    "        # Check if id of '<EOS>' needs to add at the end of each sentence\n",
    "        if add_eos:\n",
    "            eos = [vocab_to_int['<EOS>']]\n",
    "        else:\n",
    "            eos = []\n",
    "        \n",
    "        # Get the id of each word in the text\n",
    "        id_text = []\n",
    "        for sentence in text.split('\\n'):\n",
    "            sentence_id_text = [vocab_to_int[word] for word in sentence.split()] + eos\n",
    "            id_text.append(sentence_id_text)\n",
    "                \n",
    "        return id_text\n",
    "    \n",
    "    # Convert source and target text to ids\n",
    "    source_id_text = _text_to_ids(source_text, source_vocab_to_int, add_eos = False)\n",
    "    target_id_text = _text_to_ids(target_text, target_vocab_to_int, add_eos = True)\n",
    "    \n",
    "    return (source_id_text, target_id_text)\n",
    "\n",
    "\"\"\"\n",
    "DON'T MODIFY ANYTHING IN THIS CELL THAT IS BELOW THIS LINE\n",
    "\"\"\"\n",
    "tests.test_text_to_ids(text_to_ids)"
   ]
  },
  {
   "cell_type": "markdown",
   "metadata": {},
   "source": [
    "### Preprocess all the data and save it\n",
    "Running the code cell below will preprocess all the data and save it to file."
   ]
  },
  {
   "cell_type": "code",
   "execution_count": 4,
   "metadata": {
    "collapsed": true
   },
   "outputs": [],
   "source": [
    "\"\"\"\n",
    "DON'T MODIFY ANYTHING IN THIS CELL\n",
    "\"\"\"\n",
    "helper.preprocess_and_save_data(source_path, target_path, text_to_ids)"
   ]
  },
  {
   "cell_type": "markdown",
   "metadata": {},
   "source": [
    "# Check Point\n",
    "This is your first checkpoint. If you ever decide to come back to this notebook or have to restart the notebook, you can start from here. The preprocessed data has been saved to disk."
   ]
  },
  {
   "cell_type": "code",
   "execution_count": 5,
   "metadata": {
    "collapsed": true
   },
   "outputs": [],
   "source": [
    "\"\"\"\n",
    "DON'T MODIFY ANYTHING IN THIS CELL\n",
    "\"\"\"\n",
    "import numpy as np\n",
    "import helper\n",
    "import problem_unittests as tests\n",
    "\n",
    "(source_int_text, target_int_text), (source_vocab_to_int, target_vocab_to_int), _ = helper.load_preprocess()"
   ]
  },
  {
   "cell_type": "markdown",
   "metadata": {},
   "source": [
    "### Check the Version of TensorFlow and Access to GPU\n",
    "This will check to make sure you have the correct version of TensorFlow and access to a GPU"
   ]
  },
  {
   "cell_type": "code",
   "execution_count": 6,
   "metadata": {},
   "outputs": [
    {
     "name": "stdout",
     "output_type": "stream",
     "text": [
      "TensorFlow Version: 1.1.0\n"
     ]
    },
    {
     "name": "stderr",
     "output_type": "stream",
     "text": [
      "/Users/Tuzi/anaconda/envs/tf11/lib/python3.5/site-packages/ipykernel_launcher.py:15: UserWarning: No GPU found. Please use a GPU to train your neural network.\n",
      "  from ipykernel import kernelapp as app\n"
     ]
    }
   ],
   "source": [
    "\"\"\"\n",
    "DON'T MODIFY ANYTHING IN THIS CELL\n",
    "\"\"\"\n",
    "from distutils.version import LooseVersion\n",
    "import warnings\n",
    "import tensorflow as tf\n",
    "from tensorflow.python.layers.core import Dense\n",
    "\n",
    "# Check TensorFlow Version\n",
    "assert LooseVersion(tf.__version__) >= LooseVersion('1.1'), 'Please use TensorFlow version 1.1 or newer'\n",
    "print('TensorFlow Version: {}'.format(tf.__version__))\n",
    "\n",
    "# Check for a GPU\n",
    "if not tf.test.gpu_device_name():\n",
    "    warnings.warn('No GPU found. Please use a GPU to train your neural network.')\n",
    "else:\n",
    "    print('Default GPU Device: {}'.format(tf.test.gpu_device_name()))"
   ]
  },
  {
   "cell_type": "markdown",
   "metadata": {},
   "source": [
    "## Build the Neural Network\n",
    "You'll build the components necessary to build a Sequence-to-Sequence model by implementing the following functions below:\n",
    "- `model_inputs`\n",
    "- `process_decoder_input`\n",
    "- `encoding_layer`\n",
    "- `decoding_layer_train`\n",
    "- `decoding_layer_infer`\n",
    "- `decoding_layer`\n",
    "- `seq2seq_model`\n",
    "\n",
    "### Input\n",
    "Implement the `model_inputs()` function to create TF Placeholders for the Neural Network. It should create the following placeholders:\n",
    "\n",
    "- Input text placeholder named \"input\" using the TF Placeholder name parameter with rank 2.\n",
    "- Targets placeholder with rank 2.\n",
    "- Learning rate placeholder with rank 0.\n",
    "- Keep probability placeholder named \"keep_prob\" using the TF Placeholder name parameter with rank 0.\n",
    "- Target sequence length placeholder named \"target_sequence_length\" with rank 1\n",
    "- Max target sequence length tensor named \"max_target_len\" getting its value from applying tf.reduce_max on the target_sequence_length placeholder. Rank 0.\n",
    "- Source sequence length placeholder named \"source_sequence_length\" with rank 1\n",
    "\n",
    "Return the placeholders in the following the tuple (input, targets, learning rate, keep probability, target sequence length, max target sequence length, source sequence length)"
   ]
  },
  {
   "cell_type": "code",
   "execution_count": 7,
   "metadata": {},
   "outputs": [
    {
     "name": "stdout",
     "output_type": "stream",
     "text": [
      "Tests Passed\n"
     ]
    }
   ],
   "source": [
    "def model_inputs():\n",
    "    \"\"\"\n",
    "    Create TF Placeholders for input, targets, learning rate, and lengths of source and target sequences.\n",
    "    :return: Tuple (input, targets, learning rate, keep probability, target sequence length,\n",
    "    max target sequence length, source sequence length)\n",
    "    \"\"\"\n",
    "    # TODO: Implement Function\n",
    "    # Create dicts and list to store parameters of TF placeholders\n",
    "    dtype_dict = {0: tf.int32, 1: tf.float32}\n",
    "    para_list = [[\"input\", 2, 0]\n",
    "                ,[\"targets\", 2, 0]\n",
    "                ,[\"lr\", 0, 1]\n",
    "                ,[\"keep_prob\", 0, 1]\n",
    "                ,[\"target_sequence_length\", 1, 0]\n",
    "                ,[\"source_sequence_length\", 1, 0]]\n",
    "    \n",
    "    # Create an empty list to append placeholders\n",
    "    res = []\n",
    "    for name, rank, dtype in para_list:\n",
    "        res.append(tf.placeholder(dtype_dict[dtype], [None] * rank, name))\n",
    "        # Get Max target sequence length tensor seperately\n",
    "        if name == \"target_sequence_length\":\n",
    "            res.append(tf.reduce_max(res[-1]))\n",
    "    \n",
    "    # Create TF placeholders for each item in variables dict\n",
    "    return tuple(res)\n",
    "\n",
    "\n",
    "\"\"\"\n",
    "DON'T MODIFY ANYTHING IN THIS CELL THAT IS BELOW THIS LINE\n",
    "\"\"\"\n",
    "tests.test_model_inputs(model_inputs)"
   ]
  },
  {
   "cell_type": "markdown",
   "metadata": {},
   "source": [
    "### Process Decoder Input\n",
    "Implement `process_decoder_input` by removing the last word id from each batch in `target_data` and concat the GO ID to the begining of each batch."
   ]
  },
  {
   "cell_type": "code",
   "execution_count": 8,
   "metadata": {},
   "outputs": [
    {
     "name": "stdout",
     "output_type": "stream",
     "text": [
      "Tests Passed\n"
     ]
    }
   ],
   "source": [
    "def process_decoder_input(target_data, target_vocab_to_int, batch_size):\n",
    "    \"\"\"\n",
    "    Preprocess target data for encoding\n",
    "    :param target_data: Target Placehoder\n",
    "    :param target_vocab_to_int: Dictionary to go from the target words to an id\n",
    "    :param batch_size: Batch Size\n",
    "    :return: Preprocessed target data\n",
    "    \"\"\"\n",
    "    # TODO: Implement Function\n",
    "    go = [target_vocab_to_int['<GO>']]\n",
    "    \n",
    "    left = [go for _ in range(batch_size)]\n",
    "    right = [target_data[i][:-1] for i in range(batch_size)]\n",
    "    \n",
    "    return tf.concat([left, right], axis = 1)\n",
    "\n",
    "\"\"\"\n",
    "DON'T MODIFY ANYTHING IN THIS CELL THAT IS BELOW THIS LINE\n",
    "\"\"\"\n",
    "tests.test_process_encoding_input(process_decoder_input)"
   ]
  },
  {
   "cell_type": "markdown",
   "metadata": {},
   "source": [
    "### Encoding\n",
    "Implement `encoding_layer()` to create a Encoder RNN layer:\n",
    " * Embed the encoder input using [`tf.contrib.layers.embed_sequence`](https://www.tensorflow.org/api_docs/python/tf/contrib/layers/embed_sequence)\n",
    " * Construct a [stacked](https://github.com/tensorflow/tensorflow/blob/6947f65a374ebf29e74bb71e36fd82760056d82c/tensorflow/docs_src/tutorials/recurrent.md#stacking-multiple-lstms) [`tf.contrib.rnn.LSTMCell`](https://www.tensorflow.org/api_docs/python/tf/contrib/rnn/LSTMCell) wrapped in a [`tf.contrib.rnn.DropoutWrapper`](https://www.tensorflow.org/api_docs/python/tf/contrib/rnn/DropoutWrapper)\n",
    " * Pass cell and embedded input to [`tf.nn.dynamic_rnn()`](https://www.tensorflow.org/api_docs/python/tf/nn/dynamic_rnn)"
   ]
  },
  {
   "cell_type": "code",
   "execution_count": 9,
   "metadata": {
    "scrolled": false
   },
   "outputs": [
    {
     "name": "stdout",
     "output_type": "stream",
     "text": [
      "Tests Passed\n"
     ]
    }
   ],
   "source": [
    "from imp import reload\n",
    "reload(tests)\n",
    "\n",
    "def get_cell(rnn_size, keep_prob):\n",
    "    \"\"\"\n",
    "    Create LSTM Cell wrapped in a DropoutWrapper\n",
    "    :return: tensorflow.python.ops.rnn_cell_impl.DropoutWrapper\n",
    "    \"\"\"\n",
    "    cell = tf.contrib.rnn.LSTMCell(rnn_size, initializer=tf.random_uniform_initializer(-0.1, 0.1, seed = 2))\n",
    "    return tf.contrib.rnn.DropoutWrapper(cell, output_keep_prob = keep_prob)\n",
    "\n",
    "\n",
    "def encoding_layer(enc_input, rnn_size, num_layers, keep_prob, \n",
    "                   source_sequence_length, source_vocab_size, \n",
    "                   enc_embedding_size):\n",
    "    \"\"\"\n",
    "    Create encoding layer\n",
    "    :param rnn_inputs: Inputs for the RNN\n",
    "    :param rnn_size: RNN Size\n",
    "    :param num_layers: Number of layers\n",
    "    :param keep_prob: Dropout keep probability\n",
    "    :param source_sequence_length: a list of the lengths of each sequence in the batch\n",
    "    :param source_vocab_size: vocabulary size of source data\n",
    "    :param encoding_embedding_size: embedding size of source data\n",
    "    :return: tuple (RNN output, RNN state)\n",
    "    \"\"\"\n",
    "    # TODO: Implement Function\n",
    "    # Embed the encoder\n",
    "    embed = tf.contrib.layers.embed_sequence(enc_input, source_vocab_size, enc_embedding_size)\n",
    "   \n",
    "    # Construct a stacked lstm\n",
    "    enc_cell = tf.contrib.rnn.MultiRNNCell([get_cell(rnn_size, keep_prob) for _ in range(num_layers)])\n",
    "    \n",
    "    # Pass cell and embedded input to tf.nn.dynamic_rnn\n",
    "    enc_output, enc_state = tf.nn.dynamic_rnn(enc_cell, embed, dtype = tf.float32)\n",
    "\n",
    "    return (enc_output, enc_state)\n",
    "\n",
    "\"\"\"\n",
    "DON'T MODIFY ANYTHING IN THIS CELL THAT IS BELOW THIS LINE\n",
    "\"\"\"\n",
    "tests.test_encoding_layer(encoding_layer)"
   ]
  },
  {
   "cell_type": "markdown",
   "metadata": {},
   "source": [
    "### Decoding - Training\n",
    "Create a training decoding layer:\n",
    "* Create a [`tf.contrib.seq2seq.TrainingHelper`](https://www.tensorflow.org/api_docs/python/tf/contrib/seq2seq/TrainingHelper) \n",
    "* Create a [`tf.contrib.seq2seq.BasicDecoder`](https://www.tensorflow.org/api_docs/python/tf/contrib/seq2seq/BasicDecoder)\n",
    "* Obtain the decoder outputs from [`tf.contrib.seq2seq.dynamic_decode`](https://www.tensorflow.org/api_docs/python/tf/contrib/seq2seq/dynamic_decode)"
   ]
  },
  {
   "cell_type": "code",
   "execution_count": 10,
   "metadata": {},
   "outputs": [
    {
     "name": "stdout",
     "output_type": "stream",
     "text": [
      "Tests Passed\n"
     ]
    }
   ],
   "source": [
    "def decoding_layer_train(enc_state, dec_cell, dec_embed_input, \n",
    "                         target_sequence_length, max_summary_length, \n",
    "                         output_layer, keep_prob):\n",
    "    \"\"\"\n",
    "    Create a decoding layer for training\n",
    "    :param encoder_state: Encoder State\n",
    "    :param dec_cell: Decoder RNN Cell\n",
    "    :param dec_embed_input: Decoder embedded input\n",
    "    :param target_sequence_length: The lengths of each sequence in the target batch\n",
    "    :param max_summary_length: The length of the longest sequence in the batch\n",
    "    :param output_layer: Function to apply the output layer\n",
    "    :param keep_prob: Dropout keep probability\n",
    "    :return: BasicDecoderOutput containing training logits and sample_id\n",
    "    \"\"\"\n",
    "    # TODO: Implement Function    \n",
    "    # Create a tf.contrib.seq2seq.TrainingHelper\n",
    "    helper = tf.contrib.seq2seq.TrainingHelper(dec_embed_input, target_sequence_length)\n",
    "    \n",
    "    # Create a tf.contrib.seq2seq.BasicDecoder\n",
    "    decoder = tf.contrib.seq2seq.BasicDecoder(dec_cell, helper, enc_state, output_layer)\n",
    "    \n",
    "    # Obtain the decoder outputs from tf.contrib.seq2seq.dynamic_decode\n",
    "    train_logits, _ = tf.contrib.seq2seq.dynamic_decode(decoder, maximum_iterations = max_summary_length)\n",
    "    \n",
    "    return train_logits\n",
    "\n",
    "\n",
    "\n",
    "\"\"\"\n",
    "DON'T MODIFY ANYTHING IN THIS CELL THAT IS BELOW THIS LINE\n",
    "\"\"\"\n",
    "tests.test_decoding_layer_train(decoding_layer_train)"
   ]
  },
  {
   "cell_type": "markdown",
   "metadata": {},
   "source": [
    "### Decoding - Inference\n",
    "Create inference decoder:\n",
    "* Create a [`tf.contrib.seq2seq.GreedyEmbeddingHelper`](https://www.tensorflow.org/api_docs/python/tf/contrib/seq2seq/GreedyEmbeddingHelper)\n",
    "* Create a [`tf.contrib.seq2seq.BasicDecoder`](https://www.tensorflow.org/api_docs/python/tf/contrib/seq2seq/BasicDecoder)\n",
    "* Obtain the decoder outputs from [`tf.contrib.seq2seq.dynamic_decode`](https://www.tensorflow.org/api_docs/python/tf/contrib/seq2seq/dynamic_decode)"
   ]
  },
  {
   "cell_type": "code",
   "execution_count": 11,
   "metadata": {
    "scrolled": true
   },
   "outputs": [
    {
     "name": "stdout",
     "output_type": "stream",
     "text": [
      "Tests Passed\n"
     ]
    }
   ],
   "source": [
    "def decoding_layer_infer(enc_state, dec_cell, dec_embeddings, start_of_sequence_id,\n",
    "                         end_of_sequence_id, max_target_sequence_length,\n",
    "                         vocab_size, output_layer, batch_size, keep_prob):\n",
    "    \"\"\"\n",
    "    Create a decoding layer for inference\n",
    "    :param encoder_state: Encoder state\n",
    "    :param dec_cell: Decoder RNN Cell\n",
    "    :param dec_embeddings: Decoder embeddings\n",
    "    :param start_of_sequence_id: GO ID\n",
    "    :param end_of_sequence_id: EOS Id\n",
    "    :param max_target_sequence_length: Maximum length of target sequences\n",
    "    :param vocab_size: Size of decoder/target vocabulary\n",
    "    :param decoding_scope: TenorFlow Variable Scope for decoding\n",
    "    :param output_layer: Function to apply the output layer\n",
    "    :param batch_size: Batch size\n",
    "    :param keep_prob: Dropout keep probability\n",
    "    :return: BasicDecoderOutput containing inference logits and sample_id\n",
    "    \"\"\"\n",
    "    # TODO: Implement Function\n",
    "    # Create a tf.contrib.seq2seq.GreedyEmbeddingHelper\n",
    "    start = tf.fill([batch_size], start_of_sequence_id)\n",
    "    helper = tf.contrib.seq2seq.GreedyEmbeddingHelper(dec_embeddings, start, end_of_sequence_id)\n",
    "    \n",
    "    # Create a tf.contrib.seq2seq.BasicDecoder\n",
    "    decoder = tf.contrib.seq2seq.BasicDecoder(dec_cell, helper, enc_state, output_layer)\n",
    "    \n",
    "    # Obtain the decoder outputs from tf.contrib.seq2seq.dynamic_decode\n",
    "    decoder_output, _ = tf.contrib.seq2seq.dynamic_decode(decoder, maximum_iterations=max_target_sequence_length)\n",
    "    \"\"\"\n",
    "    max_target_sequence_length, vocab_size and keep_prob are not used here???\n",
    "    \"\"\"\n",
    "    return decoder_output\n",
    "\n",
    "\n",
    "\n",
    "\"\"\"\n",
    "DON'T MODIFY ANYTHING IN THIS CELL THAT IS BELOW THIS LINE\n",
    "\"\"\"\n",
    "tests.test_decoding_layer_infer(decoding_layer_infer)"
   ]
  },
  {
   "cell_type": "markdown",
   "metadata": {},
   "source": [
    "### Build the Decoding Layer\n",
    "Implement `decoding_layer()` to create a Decoder RNN layer.\n",
    "\n",
    "* Embed the target sequences\n",
    "* Construct the decoder LSTM cell (just like you constructed the encoder cell above)\n",
    "* Create an output layer to map the outputs of the decoder to the elements of our vocabulary\n",
    "* Use the your `decoding_layer_train(encoder_state, dec_cell, dec_embed_input, target_sequence_length, max_target_sequence_length, output_layer, keep_prob)` function to get the training logits.\n",
    "* Use your `decoding_layer_infer(encoder_state, dec_cell, dec_embeddings, start_of_sequence_id, end_of_sequence_id, max_target_sequence_length, vocab_size, output_layer, batch_size, keep_prob)` function to get the inference logits.\n",
    "\n",
    "Note: You'll need to use [tf.variable_scope](https://www.tensorflow.org/api_docs/python/tf/variable_scope) to share variables between training and inference."
   ]
  },
  {
   "cell_type": "code",
   "execution_count": 13,
   "metadata": {},
   "outputs": [
    {
     "name": "stdout",
     "output_type": "stream",
     "text": [
      "Tests Passed\n"
     ]
    }
   ],
   "source": [
    "def decoding_layer(dec_input, enc_state,\n",
    "                   target_sequence_length, max_target_sequence_length,\n",
    "                   rnn_size,\n",
    "                   num_layers, target_vocab_to_int, target_vocab_size,\n",
    "                   batch_size, keep_prob, dec_embedding_size):\n",
    "    \"\"\"\n",
    "    Create decoding layer\n",
    "    :param dec_input: Decoder input\n",
    "    :param encoder_state: Encoder state\n",
    "    :param target_sequence_length: The lengths of each sequence in the target batch\n",
    "    :param max_target_sequence_length: Maximum length of target sequences\n",
    "    :param rnn_size: RNN Size\n",
    "    :param num_layers: Number of layers\n",
    "    :param target_vocab_to_int: Dictionary to go from the target words to an id\n",
    "    :param target_vocab_size: Size of target vocabulary\n",
    "    :param batch_size: The size of the batch\n",
    "    :param keep_prob: Dropout keep probability\n",
    "    :param decoding_embedding_size: Decoding embedding size\n",
    "    :return: Tuple of (Training BasicDecoderOutput, Inference BasicDecoderOutput)\n",
    "    \"\"\"\n",
    "    # TODO: Implement Function\n",
    "    # get start and end ids\n",
    "    start_of_sequence_id = target_vocab_to_int['<GO>']\n",
    "    end_of_sequence_id = target_vocab_to_int['<EOS>']\n",
    "    \n",
    "    # Embed the target sequences\n",
    "    dec_embeddings = tf.Variable(tf.random_uniform([target_vocab_size, dec_embedding_size]))\n",
    "    dec_embed_input = tf.nn.embedding_lookup(dec_embeddings, dec_input)\n",
    "    \n",
    "    # Construct the decoder LSTM cell (just like you constructed the encoder cell above)\n",
    "    dec_cell = tf.contrib.rnn.MultiRNNCell([get_cell(rnn_size, keep_prob) for _ in range(num_layers)])\n",
    "    \n",
    "    # Create an output layer to map the outputs of the decoder to the elements of our vocabulary\n",
    "    output_layer = Dense(target_vocab_size\n",
    "                         , kernel_initializer=tf.truncated_normal_initializer(mean = 0.0, stddev = 0.1)\n",
    "                         , name = 'output_layer')\n",
    "    \n",
    "    # Use the your decoding_layer_train function to get the training logits.\n",
    "    with tf.variable_scope(\"decoding\"):\n",
    "        train_logits = decoding_layer_train(enc_state, dec_cell, \\\n",
    "        dec_embed_input, target_sequence_length, max_target_sequence_length, output_layer, keep_prob) \n",
    "    \n",
    "    # Use your decoding_layer_infer function to get the inference logits.\n",
    "    with tf.variable_scope(\"decoding\", reuse = True):\n",
    "        infer_logits = decoding_layer_infer(enc_state, dec_cell, dec_embeddings, start_of_sequence_id\n",
    "        ,end_of_sequence_id, max_target_sequence_length, target_vocab_size, output_layer, batch_size, keep_prob)\n",
    "        \n",
    "    return (train_logits, infer_logits)\n",
    "\n",
    "\n",
    "\n",
    "\"\"\"\n",
    "DON'T MODIFY ANYTHING IN THIS CELL THAT IS BELOW THIS LINE\n",
    "\"\"\"\n",
    "tests.test_decoding_layer(decoding_layer)"
   ]
  },
  {
   "cell_type": "markdown",
   "metadata": {},
   "source": [
    "### Build the Neural Network\n",
    "Apply the functions you implemented above to:\n",
    "\n",
    "- Encode the input using your `encoding_layer(rnn_inputs, rnn_size, num_layers, keep_prob,  source_sequence_length, source_vocab_size, encoding_embedding_size)`.\n",
    "- Process target data using your `process_decoder_input(target_data, target_vocab_to_int, batch_size)` function.\n",
    "- Decode the encoded input using your `decoding_layer(dec_input, enc_state, target_sequence_length, max_target_sentence_length, rnn_size, num_layers, target_vocab_to_int, target_vocab_size, batch_size, keep_prob, dec_embedding_size)` function."
   ]
  },
  {
   "cell_type": "code",
   "execution_count": 14,
   "metadata": {},
   "outputs": [
    {
     "name": "stdout",
     "output_type": "stream",
     "text": [
      "Tests Passed\n"
     ]
    }
   ],
   "source": [
    "def seq2seq_model(input_data, target_data, keep_prob, batch_size,\n",
    "                  source_sequence_length, target_sequence_length,\n",
    "                  max_target_sentence_length,\n",
    "                  source_vocab_size, target_vocab_size,\n",
    "                  enc_embedding_size, dec_embedding_size,\n",
    "                  rnn_size, num_layers, target_vocab_to_int):\n",
    "    \"\"\"\n",
    "    Build the Sequence-to-Sequence part of the neural network\n",
    "    :param input_data: Input placeholder\n",
    "    :param target_data: Target placeholder\n",
    "    :param keep_prob: Dropout keep probability placeholder\n",
    "    :param batch_size: Batch Size\n",
    "    :param source_sequence_length: Sequence Lengths of source sequences in the batch\n",
    "    :param target_sequence_length: Sequence Lengths of target sequences in the batch\n",
    "    :param source_vocab_size: Source vocabulary size\n",
    "    :param target_vocab_size: Target vocabulary size\n",
    "    :param enc_embedding_size: Decoder embedding size\n",
    "    :param dec_embedding_size: Encoder embedding size\n",
    "    :param rnn_size: RNN Size\n",
    "    :param num_layers: Number of layers\n",
    "    :param target_vocab_to_int: Dictionary to go from the target words to an id\n",
    "    :return: Tuple of (Training BasicDecoderOutput, Inference BasicDecoderOutput)\n",
    "    \"\"\"\n",
    "    # TODO: Implement Function\n",
    "    # Encode the input using your encoding_layer function\n",
    "    _, enc_state = encoding_layer(input_data, rnn_size, num_layers, keep_prob, source_sequence_length\n",
    "                                  , source_vocab_size, enc_embedding_size)\n",
    "\n",
    "    # Process target data using your process_decoder_input function.\n",
    "    dec_input = process_decoder_input(target_data, target_vocab_to_int, batch_size)\n",
    "    \n",
    "    # Decode the encoded input using your decoding_layer function. \n",
    "    return decoding_layer(dec_input, enc_state, target_sequence_length, max_target_sentence_length, rnn_size\n",
    "            , num_layers, target_vocab_to_int, target_vocab_size, batch_size, keep_prob, dec_embedding_size)\n",
    "\n",
    "\n",
    "\"\"\"\n",
    "DON'T MODIFY ANYTHING IN THIS CELL THAT IS BELOW THIS LINE\n",
    "\"\"\"\n",
    "tests.test_seq2seq_model(seq2seq_model)"
   ]
  },
  {
   "cell_type": "markdown",
   "metadata": {},
   "source": [
    "## Neural Network Training\n",
    "### Hyperparameters\n",
    "Tune the following parameters:\n",
    "\n",
    "- Set `epochs` to the number of epochs.\n",
    "- Set `batch_size` to the batch size.\n",
    "- Set `rnn_size` to the size of the RNNs.\n",
    "- Set `num_layers` to the number of layers.\n",
    "- Set `encoding_embedding_size` to the size of the embedding for the encoder.\n",
    "- Set `decoding_embedding_size` to the size of the embedding for the decoder.\n",
    "- Set `learning_rate` to the learning rate.\n",
    "- Set `keep_probability` to the Dropout keep probability\n",
    "- Set `display_step` to state how many steps between each debug output statement"
   ]
  },
  {
   "cell_type": "code",
   "execution_count": 15,
   "metadata": {
    "collapsed": true
   },
   "outputs": [],
   "source": [
    "# Number of Epochs\n",
    "epochs = 2\n",
    "# Batch Size\n",
    "batch_size = 256\n",
    "# RNN Size\n",
    "rnn_size = 256\n",
    "# Number of Layers\n",
    "num_layers = 2\n",
    "# Embedding Size\n",
    "encoding_embedding_size = 200\n",
    "decoding_embedding_size = 200\n",
    "# Learning Rate\n",
    "learning_rate = 0.01\n",
    "# Dropout Keep Probability\n",
    "keep_probability = 0.8\n",
    "display_step = 10"
   ]
  },
  {
   "cell_type": "markdown",
   "metadata": {},
   "source": [
    "### Build the Graph\n",
    "Build the graph using the neural network you implemented."
   ]
  },
  {
   "cell_type": "code",
   "execution_count": 16,
   "metadata": {
    "collapsed": true
   },
   "outputs": [],
   "source": [
    "\"\"\"\n",
    "DON'T MODIFY ANYTHING IN THIS CELL\n",
    "\"\"\"\n",
    "save_path = 'checkpoints/dev'\n",
    "(source_int_text, target_int_text), (source_vocab_to_int, target_vocab_to_int), _ = helper.load_preprocess()\n",
    "max_target_sentence_length = max([len(sentence) for sentence in source_int_text])\n",
    "\n",
    "train_graph = tf.Graph()\n",
    "with train_graph.as_default():\n",
    "    input_data, targets, lr, keep_prob, target_sequence_length, max_target_sequence_length, source_sequence_length = model_inputs()\n",
    "\n",
    "    #sequence_length = tf.placeholder_with_default(max_target_sentence_length, None, name='sequence_length')\n",
    "    input_shape = tf.shape(input_data)\n",
    "\n",
    "    train_logits, inference_logits = seq2seq_model(tf.reverse(input_data, [-1]),\n",
    "                                                   targets,\n",
    "                                                   keep_prob,\n",
    "                                                   batch_size,\n",
    "                                                   source_sequence_length,\n",
    "                                                   target_sequence_length,\n",
    "                                                   max_target_sequence_length,\n",
    "                                                   len(source_vocab_to_int),\n",
    "                                                   len(target_vocab_to_int),\n",
    "                                                   encoding_embedding_size,\n",
    "                                                   decoding_embedding_size,\n",
    "                                                   rnn_size,\n",
    "                                                   num_layers,\n",
    "                                                   target_vocab_to_int)\n",
    "\n",
    "\n",
    "    training_logits = tf.identity(train_logits.rnn_output, name='logits')\n",
    "    inference_logits = tf.identity(inference_logits.sample_id, name='predictions')\n",
    "\n",
    "    masks = tf.sequence_mask(target_sequence_length, max_target_sequence_length, dtype=tf.float32, name='masks')\n",
    "\n",
    "    with tf.name_scope(\"optimization\"):\n",
    "        # Loss function\n",
    "        cost = tf.contrib.seq2seq.sequence_loss(\n",
    "            training_logits,\n",
    "            targets,\n",
    "            masks)\n",
    "\n",
    "        # Optimizer\n",
    "        optimizer = tf.train.AdamOptimizer(lr)\n",
    "\n",
    "        # Gradient Clipping\n",
    "        gradients = optimizer.compute_gradients(cost)\n",
    "        capped_gradients = [(tf.clip_by_value(grad, -1., 1.), var) for grad, var in gradients if grad is not None]\n",
    "        train_op = optimizer.apply_gradients(capped_gradients)\n"
   ]
  },
  {
   "cell_type": "markdown",
   "metadata": {},
   "source": [
    "Batch and pad the source and target sequences"
   ]
  },
  {
   "cell_type": "code",
   "execution_count": 17,
   "metadata": {
    "collapsed": true
   },
   "outputs": [],
   "source": [
    "\"\"\"\n",
    "DON'T MODIFY ANYTHING IN THIS CELL\n",
    "\"\"\"\n",
    "def pad_sentence_batch(sentence_batch, pad_int):\n",
    "    \"\"\"Pad sentences with <PAD> so that each sentence of a batch has the same length\"\"\"\n",
    "    max_sentence = max([len(sentence) for sentence in sentence_batch])\n",
    "    return [sentence + [pad_int] * (max_sentence - len(sentence)) for sentence in sentence_batch]\n",
    "\n",
    "\n",
    "def get_batches(sources, targets, batch_size, source_pad_int, target_pad_int):\n",
    "    \"\"\"Batch targets, sources, and the lengths of their sentences together\"\"\"\n",
    "    for batch_i in range(0, len(sources)//batch_size):\n",
    "        start_i = batch_i * batch_size\n",
    "\n",
    "        # Slice the right amount for the batch\n",
    "        sources_batch = sources[start_i:start_i + batch_size]\n",
    "        targets_batch = targets[start_i:start_i + batch_size]\n",
    "\n",
    "        # Pad\n",
    "        pad_sources_batch = np.array(pad_sentence_batch(sources_batch, source_pad_int))\n",
    "        pad_targets_batch = np.array(pad_sentence_batch(targets_batch, target_pad_int))\n",
    "\n",
    "        # Need the lengths for the _lengths parameters\n",
    "        pad_targets_lengths = []\n",
    "        for target in pad_targets_batch:\n",
    "            pad_targets_lengths.append(len(target))\n",
    "\n",
    "        pad_source_lengths = []\n",
    "        for source in pad_sources_batch:\n",
    "            pad_source_lengths.append(len(source))\n",
    "\n",
    "        yield pad_sources_batch, pad_targets_batch, pad_source_lengths, pad_targets_lengths\n"
   ]
  },
  {
   "cell_type": "markdown",
   "metadata": {},
   "source": [
    "### Train\n",
    "Train the neural network on the preprocessed data. If you have a hard time getting a good loss, check the forms to see if anyone is having the same problem."
   ]
  },
  {
   "cell_type": "code",
   "execution_count": 18,
   "metadata": {
    "scrolled": true
   },
   "outputs": [
    {
     "name": "stdout",
     "output_type": "stream",
     "text": [
      "Epoch   0 Batch   10/538 - Train Accuracy: 0.2668, Validation Accuracy: 0.3516, Loss: 3.5223\n",
      "Epoch   0 Batch   20/538 - Train Accuracy: 0.3445, Validation Accuracy: 0.3848, Loss: 2.9533\n",
      "Epoch   0 Batch   30/538 - Train Accuracy: 0.3539, Validation Accuracy: 0.4194, Loss: 2.8280\n",
      "Epoch   0 Batch   40/538 - Train Accuracy: 0.4728, Validation Accuracy: 0.4737, Loss: 2.3402\n",
      "Epoch   0 Batch   50/538 - Train Accuracy: 0.4781, Validation Accuracy: 0.5114, Loss: 2.2585\n",
      "Epoch   0 Batch   60/538 - Train Accuracy: 0.4949, Validation Accuracy: 0.5346, Loss: 2.0365\n",
      "Epoch   0 Batch   70/538 - Train Accuracy: 0.5123, Validation Accuracy: 0.5375, Loss: 1.6791\n",
      "Epoch   0 Batch   80/538 - Train Accuracy: 0.4770, Validation Accuracy: 0.5240, Loss: 1.4755\n",
      "Epoch   0 Batch   90/538 - Train Accuracy: 0.5253, Validation Accuracy: 0.5364, Loss: 1.1986\n",
      "Epoch   0 Batch  100/538 - Train Accuracy: 0.5303, Validation Accuracy: 0.5364, Loss: 1.0197\n",
      "Epoch   0 Batch  110/538 - Train Accuracy: 0.4861, Validation Accuracy: 0.5350, Loss: 0.9775\n",
      "Epoch   0 Batch  120/538 - Train Accuracy: 0.5164, Validation Accuracy: 0.5549, Loss: 0.8563\n",
      "Epoch   0 Batch  130/538 - Train Accuracy: 0.5326, Validation Accuracy: 0.5517, Loss: 0.7978\n",
      "Epoch   0 Batch  140/538 - Train Accuracy: 0.4963, Validation Accuracy: 0.5623, Loss: 0.8387\n",
      "Epoch   0 Batch  150/538 - Train Accuracy: 0.5721, Validation Accuracy: 0.5850, Loss: 0.7532\n",
      "Epoch   0 Batch  160/538 - Train Accuracy: 0.5911, Validation Accuracy: 0.6003, Loss: 0.6733\n",
      "Epoch   0 Batch  170/538 - Train Accuracy: 0.5958, Validation Accuracy: 0.6108, Loss: 0.6800\n",
      "Epoch   0 Batch  180/538 - Train Accuracy: 0.6566, Validation Accuracy: 0.6159, Loss: 0.6398\n",
      "Epoch   0 Batch  190/538 - Train Accuracy: 0.6270, Validation Accuracy: 0.6222, Loss: 0.6327\n",
      "Epoch   0 Batch  200/538 - Train Accuracy: 0.6438, Validation Accuracy: 0.6232, Loss: 0.5993\n",
      "Epoch   0 Batch  210/538 - Train Accuracy: 0.6440, Validation Accuracy: 0.6527, Loss: 0.5830\n",
      "Epoch   0 Batch  220/538 - Train Accuracy: 0.6153, Validation Accuracy: 0.6218, Loss: 0.5539\n",
      "Epoch   0 Batch  230/538 - Train Accuracy: 0.6227, Validation Accuracy: 0.6477, Loss: 0.5595\n",
      "Epoch   0 Batch  240/538 - Train Accuracy: 0.6498, Validation Accuracy: 0.6451, Loss: 0.5359\n",
      "Epoch   0 Batch  250/538 - Train Accuracy: 0.6727, Validation Accuracy: 0.6513, Loss: 0.5205\n",
      "Epoch   0 Batch  260/538 - Train Accuracy: 0.6689, Validation Accuracy: 0.6651, Loss: 0.4915\n",
      "Epoch   0 Batch  270/538 - Train Accuracy: 0.6713, Validation Accuracy: 0.6724, Loss: 0.4740\n",
      "Epoch   0 Batch  280/538 - Train Accuracy: 0.7264, Validation Accuracy: 0.6777, Loss: 0.4267\n",
      "Epoch   0 Batch  290/538 - Train Accuracy: 0.7088, Validation Accuracy: 0.6797, Loss: 0.4302\n",
      "Epoch   0 Batch  300/538 - Train Accuracy: 0.7169, Validation Accuracy: 0.6902, Loss: 0.4181\n",
      "Epoch   0 Batch  310/538 - Train Accuracy: 0.7611, Validation Accuracy: 0.6998, Loss: 0.4122\n",
      "Epoch   0 Batch  320/538 - Train Accuracy: 0.7318, Validation Accuracy: 0.7109, Loss: 0.3907\n",
      "Epoch   0 Batch  330/538 - Train Accuracy: 0.7340, Validation Accuracy: 0.7129, Loss: 0.3515\n",
      "Epoch   0 Batch  340/538 - Train Accuracy: 0.7316, Validation Accuracy: 0.7211, Loss: 0.3764\n",
      "Epoch   0 Batch  350/538 - Train Accuracy: 0.7587, Validation Accuracy: 0.7282, Loss: 0.3683\n",
      "Epoch   0 Batch  360/538 - Train Accuracy: 0.7373, Validation Accuracy: 0.7459, Loss: 0.3378\n",
      "Epoch   0 Batch  370/538 - Train Accuracy: 0.7658, Validation Accuracy: 0.7317, Loss: 0.3365\n",
      "Epoch   0 Batch  380/538 - Train Accuracy: 0.7891, Validation Accuracy: 0.7594, Loss: 0.2951\n",
      "Epoch   0 Batch  390/538 - Train Accuracy: 0.8214, Validation Accuracy: 0.7651, Loss: 0.2767\n",
      "Epoch   0 Batch  400/538 - Train Accuracy: 0.7963, Validation Accuracy: 0.7766, Loss: 0.2904\n",
      "Epoch   0 Batch  410/538 - Train Accuracy: 0.8105, Validation Accuracy: 0.7789, Loss: 0.2706\n",
      "Epoch   0 Batch  420/538 - Train Accuracy: 0.8068, Validation Accuracy: 0.7747, Loss: 0.2570\n",
      "Epoch   0 Batch  430/538 - Train Accuracy: 0.8004, Validation Accuracy: 0.7958, Loss: 0.2632\n",
      "Epoch   0 Batch  440/538 - Train Accuracy: 0.8084, Validation Accuracy: 0.8137, Loss: 0.2532\n",
      "Epoch   0 Batch  450/538 - Train Accuracy: 0.8051, Validation Accuracy: 0.8153, Loss: 0.2381\n",
      "Epoch   0 Batch  460/538 - Train Accuracy: 0.8211, Validation Accuracy: 0.8285, Loss: 0.2253\n",
      "Epoch   0 Batch  470/538 - Train Accuracy: 0.8467, Validation Accuracy: 0.8390, Loss: 0.1978\n",
      "Epoch   0 Batch  480/538 - Train Accuracy: 0.8462, Validation Accuracy: 0.8310, Loss: 0.1971\n",
      "Epoch   0 Batch  490/538 - Train Accuracy: 0.8504, Validation Accuracy: 0.8414, Loss: 0.1862\n",
      "Epoch   0 Batch  500/538 - Train Accuracy: 0.8816, Validation Accuracy: 0.8409, Loss: 0.1593\n",
      "Epoch   0 Batch  510/538 - Train Accuracy: 0.8529, Validation Accuracy: 0.8420, Loss: 0.1654\n",
      "Epoch   0 Batch  520/538 - Train Accuracy: 0.8658, Validation Accuracy: 0.8633, Loss: 0.1749\n",
      "Epoch   0 Batch  530/538 - Train Accuracy: 0.8467, Validation Accuracy: 0.8496, Loss: 0.1805\n",
      "Epoch   1 Batch   10/538 - Train Accuracy: 0.8736, Validation Accuracy: 0.8491, Loss: 0.1578\n",
      "Epoch   1 Batch   20/538 - Train Accuracy: 0.8741, Validation Accuracy: 0.8688, Loss: 0.1476\n",
      "Epoch   1 Batch   30/538 - Train Accuracy: 0.8715, Validation Accuracy: 0.8691, Loss: 0.1482\n",
      "Epoch   1 Batch   40/538 - Train Accuracy: 0.9013, Validation Accuracy: 0.8679, Loss: 0.1183\n",
      "Epoch   1 Batch   50/538 - Train Accuracy: 0.8904, Validation Accuracy: 0.8796, Loss: 0.1233\n",
      "Epoch   1 Batch   60/538 - Train Accuracy: 0.9033, Validation Accuracy: 0.8817, Loss: 0.1261\n",
      "Epoch   1 Batch   70/538 - Train Accuracy: 0.8891, Validation Accuracy: 0.8691, Loss: 0.1102\n",
      "Epoch   1 Batch   80/538 - Train Accuracy: 0.8928, Validation Accuracy: 0.8833, Loss: 0.1163\n",
      "Epoch   1 Batch   90/538 - Train Accuracy: 0.8916, Validation Accuracy: 0.8784, Loss: 0.1275\n",
      "Epoch   1 Batch  100/538 - Train Accuracy: 0.9139, Validation Accuracy: 0.8837, Loss: 0.1028\n",
      "Epoch   1 Batch  110/538 - Train Accuracy: 0.8926, Validation Accuracy: 0.8841, Loss: 0.1079\n",
      "Epoch   1 Batch  120/538 - Train Accuracy: 0.9180, Validation Accuracy: 0.8878, Loss: 0.0885\n",
      "Epoch   1 Batch  130/538 - Train Accuracy: 0.9128, Validation Accuracy: 0.8837, Loss: 0.0980\n",
      "Epoch   1 Batch  140/538 - Train Accuracy: 0.8939, Validation Accuracy: 0.9015, Loss: 0.1189\n",
      "Epoch   1 Batch  150/538 - Train Accuracy: 0.9129, Validation Accuracy: 0.8938, Loss: 0.0884\n",
      "Epoch   1 Batch  160/538 - Train Accuracy: 0.8810, Validation Accuracy: 0.8919, Loss: 0.0938\n",
      "Epoch   1 Batch  170/538 - Train Accuracy: 0.8908, Validation Accuracy: 0.8901, Loss: 0.0972\n",
      "Epoch   1 Batch  180/538 - Train Accuracy: 0.9090, Validation Accuracy: 0.8949, Loss: 0.0887\n",
      "Epoch   1 Batch  190/538 - Train Accuracy: 0.8981, Validation Accuracy: 0.9048, Loss: 0.1097\n",
      "Epoch   1 Batch  200/538 - Train Accuracy: 0.9062, Validation Accuracy: 0.8871, Loss: 0.0740\n",
      "Epoch   1 Batch  210/538 - Train Accuracy: 0.8839, Validation Accuracy: 0.9038, Loss: 0.0864\n",
      "Epoch   1 Batch  220/538 - Train Accuracy: 0.9070, Validation Accuracy: 0.8869, Loss: 0.0832\n",
      "Epoch   1 Batch  230/538 - Train Accuracy: 0.8939, Validation Accuracy: 0.8942, Loss: 0.0832\n",
      "Epoch   1 Batch  240/538 - Train Accuracy: 0.9201, Validation Accuracy: 0.9052, Loss: 0.0864\n",
      "Epoch   1 Batch  250/538 - Train Accuracy: 0.9254, Validation Accuracy: 0.9150, Loss: 0.0737\n",
      "Epoch   1 Batch  260/538 - Train Accuracy: 0.8839, Validation Accuracy: 0.8986, Loss: 0.0866\n",
      "Epoch   1 Batch  270/538 - Train Accuracy: 0.9082, Validation Accuracy: 0.9176, Loss: 0.0738\n",
      "Epoch   1 Batch  280/538 - Train Accuracy: 0.9206, Validation Accuracy: 0.8983, Loss: 0.0652\n",
      "Epoch   1 Batch  290/538 - Train Accuracy: 0.9328, Validation Accuracy: 0.9217, Loss: 0.0681\n",
      "Epoch   1 Batch  300/538 - Train Accuracy: 0.9230, Validation Accuracy: 0.9096, Loss: 0.0724\n",
      "Epoch   1 Batch  310/538 - Train Accuracy: 0.9496, Validation Accuracy: 0.9080, Loss: 0.0746\n",
      "Epoch   1 Batch  320/538 - Train Accuracy: 0.9124, Validation Accuracy: 0.9128, Loss: 0.0711\n",
      "Epoch   1 Batch  330/538 - Train Accuracy: 0.9418, Validation Accuracy: 0.9116, Loss: 0.0676\n",
      "Epoch   1 Batch  340/538 - Train Accuracy: 0.9162, Validation Accuracy: 0.9121, Loss: 0.0685\n",
      "Epoch   1 Batch  350/538 - Train Accuracy: 0.9193, Validation Accuracy: 0.9153, Loss: 0.0765\n",
      "Epoch   1 Batch  360/538 - Train Accuracy: 0.9012, Validation Accuracy: 0.9178, Loss: 0.0685\n"
     ]
    },
    {
     "name": "stdout",
     "output_type": "stream",
     "text": [
      "Epoch   1 Batch  370/538 - Train Accuracy: 0.9354, Validation Accuracy: 0.9116, Loss: 0.0705\n",
      "Epoch   1 Batch  380/538 - Train Accuracy: 0.9160, Validation Accuracy: 0.9171, Loss: 0.0631\n",
      "Epoch   1 Batch  390/538 - Train Accuracy: 0.9044, Validation Accuracy: 0.9180, Loss: 0.0576\n",
      "Epoch   1 Batch  400/538 - Train Accuracy: 0.9330, Validation Accuracy: 0.9125, Loss: 0.0601\n",
      "Epoch   1 Batch  410/538 - Train Accuracy: 0.9135, Validation Accuracy: 0.9341, Loss: 0.0692\n",
      "Epoch   1 Batch  420/538 - Train Accuracy: 0.9381, Validation Accuracy: 0.9217, Loss: 0.0608\n",
      "Epoch   1 Batch  430/538 - Train Accuracy: 0.9051, Validation Accuracy: 0.9395, Loss: 0.0629\n",
      "Epoch   1 Batch  440/538 - Train Accuracy: 0.9176, Validation Accuracy: 0.9281, Loss: 0.0671\n",
      "Epoch   1 Batch  450/538 - Train Accuracy: 0.9126, Validation Accuracy: 0.9382, Loss: 0.0786\n",
      "Epoch   1 Batch  460/538 - Train Accuracy: 0.9074, Validation Accuracy: 0.9176, Loss: 0.0662\n",
      "Epoch   1 Batch  470/538 - Train Accuracy: 0.9262, Validation Accuracy: 0.9302, Loss: 0.0559\n",
      "Epoch   1 Batch  480/538 - Train Accuracy: 0.9453, Validation Accuracy: 0.9254, Loss: 0.0533\n",
      "Epoch   1 Batch  490/538 - Train Accuracy: 0.9275, Validation Accuracy: 0.9492, Loss: 0.0541\n",
      "Epoch   1 Batch  500/538 - Train Accuracy: 0.9382, Validation Accuracy: 0.9160, Loss: 0.0380\n",
      "Epoch   1 Batch  510/538 - Train Accuracy: 0.9254, Validation Accuracy: 0.9205, Loss: 0.0534\n",
      "Epoch   1 Batch  520/538 - Train Accuracy: 0.9297, Validation Accuracy: 0.9325, Loss: 0.0563\n",
      "Epoch   1 Batch  530/538 - Train Accuracy: 0.9057, Validation Accuracy: 0.9435, Loss: 0.0605\n",
      "Model Trained and Saved\n"
     ]
    }
   ],
   "source": [
    "\"\"\"\n",
    "DON'T MODIFY ANYTHING IN THIS CELL\n",
    "\"\"\"\n",
    "def get_accuracy(target, logits):\n",
    "    \"\"\"\n",
    "    Calculate accuracy\n",
    "    \"\"\"\n",
    "    max_seq = max(target.shape[1], logits.shape[1])\n",
    "    if max_seq - target.shape[1]:\n",
    "        target = np.pad(\n",
    "            target,\n",
    "            [(0,0),(0,max_seq - target.shape[1])],\n",
    "            'constant')\n",
    "    if max_seq - logits.shape[1]:\n",
    "        logits = np.pad(\n",
    "            logits,\n",
    "            [(0,0),(0,max_seq - logits.shape[1])],\n",
    "            'constant')\n",
    "\n",
    "    return np.mean(np.equal(target, logits))\n",
    "\n",
    "# Split data to training and validation sets\n",
    "train_source = source_int_text[batch_size:]\n",
    "train_target = target_int_text[batch_size:]\n",
    "valid_source = source_int_text[:batch_size]\n",
    "valid_target = target_int_text[:batch_size]\n",
    "(valid_sources_batch, valid_targets_batch, valid_sources_lengths, valid_targets_lengths ) = next(get_batches(valid_source,\n",
    "                                                                                                             valid_target,\n",
    "                                                                                                             batch_size,\n",
    "                                                                                                             source_vocab_to_int['<PAD>'],\n",
    "                                                                                                             target_vocab_to_int['<PAD>']))                                                                                                  \n",
    "with tf.Session(graph=train_graph) as sess:\n",
    "    sess.run(tf.global_variables_initializer())\n",
    "\n",
    "    for epoch_i in range(epochs):\n",
    "        for batch_i, (source_batch, target_batch, sources_lengths, targets_lengths) in enumerate(\n",
    "                get_batches(train_source, train_target, batch_size,\n",
    "                            source_vocab_to_int['<PAD>'],\n",
    "                            target_vocab_to_int['<PAD>'])):\n",
    "\n",
    "            _, loss = sess.run(\n",
    "                [train_op, cost],\n",
    "                {input_data: source_batch,\n",
    "                 targets: target_batch,\n",
    "                 lr: learning_rate,\n",
    "                 target_sequence_length: targets_lengths,\n",
    "                 source_sequence_length: sources_lengths,\n",
    "                 keep_prob: keep_probability})\n",
    "\n",
    "\n",
    "            if batch_i % display_step == 0 and batch_i > 0:\n",
    "\n",
    "\n",
    "                batch_train_logits = sess.run(\n",
    "                    inference_logits,\n",
    "                    {input_data: source_batch,\n",
    "                     source_sequence_length: sources_lengths,\n",
    "                     target_sequence_length: targets_lengths,\n",
    "                     keep_prob: 1.0})\n",
    "\n",
    "\n",
    "                batch_valid_logits = sess.run(\n",
    "                    inference_logits,\n",
    "                    {input_data: valid_sources_batch,\n",
    "                     source_sequence_length: valid_sources_lengths,\n",
    "                     target_sequence_length: valid_targets_lengths,\n",
    "                     keep_prob: 1.0})\n",
    "\n",
    "                train_acc = get_accuracy(target_batch, batch_train_logits)\n",
    "\n",
    "                valid_acc = get_accuracy(valid_targets_batch, batch_valid_logits)\n",
    "\n",
    "                print('Epoch {:>3} Batch {:>4}/{} - Train Accuracy: {:>6.4f}, Validation Accuracy: {:>6.4f}, Loss: {:>6.4f}'\n",
    "                      .format(epoch_i, batch_i, len(source_int_text) // batch_size, train_acc, valid_acc, loss))\n",
    "\n",
    "    # Save Model\n",
    "    saver = tf.train.Saver()\n",
    "    saver.save(sess, save_path)\n",
    "    print('Model Trained and Saved')"
   ]
  },
  {
   "cell_type": "markdown",
   "metadata": {},
   "source": [
    "### Save Parameters\n",
    "Save the `batch_size` and `save_path` parameters for inference."
   ]
  },
  {
   "cell_type": "code",
   "execution_count": 19,
   "metadata": {
    "collapsed": true
   },
   "outputs": [],
   "source": [
    "\"\"\"\n",
    "DON'T MODIFY ANYTHING IN THIS CELL\n",
    "\"\"\"\n",
    "# Save parameters for checkpoint\n",
    "helper.save_params(save_path)"
   ]
  },
  {
   "cell_type": "markdown",
   "metadata": {},
   "source": [
    "# Checkpoint"
   ]
  },
  {
   "cell_type": "code",
   "execution_count": 20,
   "metadata": {
    "collapsed": true
   },
   "outputs": [],
   "source": [
    "\"\"\"\n",
    "DON'T MODIFY ANYTHING IN THIS CELL\n",
    "\"\"\"\n",
    "import tensorflow as tf\n",
    "import numpy as np\n",
    "import helper\n",
    "import problem_unittests as tests\n",
    "\n",
    "_, (source_vocab_to_int, target_vocab_to_int), (source_int_to_vocab, target_int_to_vocab) = helper.load_preprocess()\n",
    "load_path = helper.load_params()"
   ]
  },
  {
   "cell_type": "markdown",
   "metadata": {},
   "source": [
    "## Sentence to Sequence\n",
    "To feed a sentence into the model for translation, you first need to preprocess it.  Implement the function `sentence_to_seq()` to preprocess new sentences.\n",
    "\n",
    "- Convert the sentence to lowercase\n",
    "- Convert words into ids using `vocab_to_int`\n",
    " - Convert words not in the vocabulary, to the `<UNK>` word id."
   ]
  },
  {
   "cell_type": "code",
   "execution_count": 21,
   "metadata": {},
   "outputs": [
    {
     "name": "stdout",
     "output_type": "stream",
     "text": [
      "Tests Passed\n"
     ]
    }
   ],
   "source": [
    "def sentence_to_seq(sentence, vocab_to_int):\n",
    "    \"\"\"\n",
    "    Convert a sentence to a sequence of ids\n",
    "    :param sentence: String\n",
    "    :param vocab_to_int: Dictionary to go from the words to an id\n",
    "    :return: List of word ids\n",
    "    \"\"\"\n",
    "    # TODO: Implement Function\n",
    "    word_ids = []\n",
    "    unk = vocab_to_int['<UNK>']\n",
    "    \n",
    "    for word in sentence.split():\n",
    "        try:\n",
    "            word_id = vocab_to_int[word.lower()]\n",
    "        except:\n",
    "            word_id = unk\n",
    "        finally:\n",
    "            word_ids.append(word_id)\n",
    "        \n",
    "    return word_ids\n",
    "\n",
    "\n",
    "\"\"\"\n",
    "DON'T MODIFY ANYTHING IN THIS CELL THAT IS BELOW THIS LINE\n",
    "\"\"\"\n",
    "tests.test_sentence_to_seq(sentence_to_seq)"
   ]
  },
  {
   "cell_type": "markdown",
   "metadata": {},
   "source": [
    "## Translate\n",
    "This will translate `translate_sentence` from English to French."
   ]
  },
  {
   "cell_type": "code",
   "execution_count": 22,
   "metadata": {},
   "outputs": [
    {
     "name": "stdout",
     "output_type": "stream",
     "text": [
      "INFO:tensorflow:Restoring parameters from checkpoints/dev\n",
      "Input\n",
      "  Word Ids:      [135, 157, 90, 223, 80, 12, 8]\n",
      "  English Words: ['he', 'saw', 'a', 'old', 'yellow', 'truck', '.']\n",
      "\n",
      "Prediction\n",
      "  Word Ids:      [341, 36, 74, 340, 51, 277, 294, 272, 1]\n",
      "  French Words: il a vu un vieux camion bleu . <EOS>\n"
     ]
    }
   ],
   "source": [
    "translate_sentence = 'he saw a old yellow truck .'\n",
    "\n",
    "\n",
    "\"\"\"\n",
    "DON'T MODIFY ANYTHING IN THIS CELL\n",
    "\"\"\"\n",
    "translate_sentence = sentence_to_seq(translate_sentence, source_vocab_to_int)\n",
    "\n",
    "loaded_graph = tf.Graph()\n",
    "with tf.Session(graph=loaded_graph) as sess:\n",
    "    # Load saved model\n",
    "    loader = tf.train.import_meta_graph(load_path + '.meta')\n",
    "    loader.restore(sess, load_path)\n",
    "\n",
    "    input_data = loaded_graph.get_tensor_by_name('input:0')\n",
    "    logits = loaded_graph.get_tensor_by_name('predictions:0')\n",
    "    target_sequence_length = loaded_graph.get_tensor_by_name('target_sequence_length:0')\n",
    "    source_sequence_length = loaded_graph.get_tensor_by_name('source_sequence_length:0')\n",
    "    keep_prob = loaded_graph.get_tensor_by_name('keep_prob:0')\n",
    "\n",
    "    translate_logits = sess.run(logits, {input_data: [translate_sentence]*batch_size,\n",
    "                                         target_sequence_length: [len(translate_sentence)*2]*batch_size,\n",
    "                                         source_sequence_length: [len(translate_sentence)]*batch_size,\n",
    "                                         keep_prob: 1.0})[0]\n",
    "\n",
    "print('Input')\n",
    "print('  Word Ids:      {}'.format([i for i in translate_sentence]))\n",
    "print('  English Words: {}'.format([source_int_to_vocab[i] for i in translate_sentence]))\n",
    "\n",
    "print('\\nPrediction')\n",
    "print('  Word Ids:      {}'.format([i for i in translate_logits]))\n",
    "print('  French Words: {}'.format(\" \".join([target_int_to_vocab[i] for i in translate_logits])))\n"
   ]
  },
  {
   "cell_type": "markdown",
   "metadata": {},
   "source": [
    "## Imperfect Translation\n",
    "You might notice that some sentences translate better than others.  Since the dataset you're using only has a vocabulary of 227 English words of the thousands that you use, you're only going to see good results using these words.  For this project, you don't need a perfect translation. However, if you want to create a better translation model, you'll need better data.\n",
    "\n",
    "You can train on the [WMT10 French-English corpus](http://www.statmt.org/wmt10/training-giga-fren.tar).  This dataset has more vocabulary and richer in topics discussed.  However, this will take you days to train, so make sure you've a GPU and the neural network is performing well on dataset we provided.  Just make sure you play with the WMT10 corpus after you've submitted this project.\n",
    "## Submitting This Project\n",
    "When submitting this project, make sure to run all the cells before saving the notebook. Save the notebook file as \"dlnd_language_translation.ipynb\" and save it as a HTML file under \"File\" -> \"Download as\". Include the \"helper.py\" and \"problem_unittests.py\" files in your submission."
   ]
  }
 ],
 "metadata": {
  "anaconda-cloud": {},
  "kernelspec": {
   "display_name": "Python 3",
   "language": "python",
   "name": "python3"
  },
  "language_info": {
   "codemirror_mode": {
    "name": "ipython",
    "version": 3
   },
   "file_extension": ".py",
   "mimetype": "text/x-python",
   "name": "python",
   "nbconvert_exporter": "python",
   "pygments_lexer": "ipython3",
   "version": "3.5.4"
  }
 },
 "nbformat": 4,
 "nbformat_minor": 1
}
